{
 "cells": [
  {
   "cell_type": "code",
   "execution_count": 1,
   "metadata": {},
   "outputs": [],
   "source": [
    "#Import necessary modules\n",
    "import pandas as pd\n",
    "import numpy as np\n",
    "import PySimpleGUI as sg\n",
    "import matplotlib.pyplot as plt"
   ]
  },
  {
   "cell_type": "code",
   "execution_count": 2,
   "metadata": {},
   "outputs": [],
   "source": [
    "#Select .csv file for data analysis\n",
    "sg.theme('LightBlue2')\n",
    "\n",
    "File = sg.popup_get_file('Please select .csv file for analyzing',\n",
    "                          title = 'Select File',\n",
    "                          keep_on_top = True)\n",
    "Data = pd.read_csv(File,\n",
    "                    header = 0, \n",
    "                    keep_default_na = False)"
   ]
  },
  {
   "cell_type": "code",
   "execution_count": 3,
   "metadata": {},
   "outputs": [],
   "source": [
    "#Fill blanks with NaN's\n",
    "Data.replace(r'^\\s*$', np.nan, regex = True, inplace = True)"
   ]
  },
  {
   "cell_type": "code",
   "execution_count": null,
   "metadata": {},
   "outputs": [],
   "source": [
    "#User input of independent and dependent variables\n",
    "ind_var = sg.popup_get_text('Please type the column name of the independent variable. Options: Fatigue, Soreness, Desire to Train, Irritability, Sleep hours, and Sleep Quality',\n",
    "                            title = 'Input independent variable name',\n",
    "                            keep_on_top = True)\n",
    "\n",
    "dep_var = sg.popup_get_text('Please type the column name of the dependent variable. Options: Monitoring Z-Score',\n",
    "                            title = 'Input dependent variable name',\n",
    "                            keep_on_top = True)"
   ]
  },
  {
   "cell_type": "code",
   "execution_count": null,
   "metadata": {},
   "outputs": [],
   "source": [
    "#Redefine df with needed columns\n",
    "Data = Data[[ind_var, dep_var]].copy()\n",
    "\n",
    "#Drop all NaNs\n",
    "Data = Data.dropna()\n",
    "\n",
    "#Define dtype for specific columns\n",
    "Data[ind_var] = Data[ind_var].astype(float)\n",
    "Data[dep_var] = Data[dep_var].astype(float)"
   ]
  },
  {
   "cell_type": "code",
   "execution_count": null,
   "metadata": {},
   "outputs": [],
   "source": [
    "def estimate_coef(x,y):\n",
    "    #number of obersvations/points\n",
    "    n = np.size(x)\n",
    "    \n",
    "    #Mean of x and y vector\n",
    "    m_x, m_y = np.mean(x), np.mean(y)\n",
    "    \n",
    "    #Calculating cross-deviation and deviations about x\n",
    "    SS_xy = np.sum(y*x) - n*m_y*m_x\n",
    "    SS_xx = np.sum(x*x) - n*m_x*m_x\n",
    "    \n",
    "    #Calculating regression coefficients\n",
    "    slope = SS_xy / SS_xx\n",
    "    intercept = m_y - slope*m_x\n",
    "    \n",
    "    return(intercept, slope)"
   ]
  },
  {
   "cell_type": "code",
   "execution_count": null,
   "metadata": {},
   "outputs": [],
   "source": [
    "def plot_regression_line(x,y,b):\n",
    "    #plotting the actual ploints as scatter plot\n",
    "    plt.scatter(x,y, color = \"b\", marker = \"o\", s = 30)\n",
    "    \n",
    "    #Predicted response vecotr\n",
    "    y_pred = b[0] + b[1]*x\n",
    "    \n",
    "    #Plotting the regression line\n",
    "    plt.plot(x, y_pred, color = \"r\")\n",
    "    \n",
    "    #Putting labels\n",
    "    plt.xlabel(ind_var)\n",
    "    plt.ylabel(dep_var)\n",
    "    plt.title(ind_var + ' ' + 'versus' + ' ' + dep_var)\n",
    "    \n",
    "    #Removing spines\n",
    "    plt.gca().spines['right'].set_color('none')\n",
    "    plt.gca().spines['top'].set_color('none')\n",
    "    \n",
    "    #Function to show plot\n",
    "    plt.show()"
   ]
  },
  {
   "cell_type": "code",
   "execution_count": null,
   "metadata": {},
   "outputs": [],
   "source": [
    "#Creating a figure\n",
    "fig = plt.figure(figsize = (8,5), dpi = 300)  \n",
    " \n",
    "#Plotting the regression line\n",
    "x = Data[ind_var]\n",
    "y = Data[dep_var]\n",
    "    \n",
    "#Estimating coefficients\n",
    "b = estimate_coef(x, y)\n",
    "\n",
    "#Plotting regression\n",
    "plot_regression_line(x, y, b)"
   ]
  },
  {
   "cell_type": "code",
   "execution_count": null,
   "metadata": {},
   "outputs": [],
   "source": [
    "#Stating the slope and intercept\n",
    "sg.popup(\"Estimated coefficients:\\nintercept = {} \\nslope = {}\".format(str(b[0]), str(b[1])),\n",
    "              title = 'Coefficient values', \n",
    "              keep_on_top = True) "
   ]
  },
  {
   "cell_type": "code",
   "execution_count": null,
   "metadata": {},
   "outputs": [],
   "source": [
    "#Saving figure\n",
    "selectfolder = sg.popup_get_folder('Select a folder to save linear regression plot', keep_on_top = True)\n",
    "fig.savefig(selectfolder + '/Linear Regression.tiff', bbox_inches = 'tight')\n"
   ]
  }
 ],
 "metadata": {
  "kernelspec": {
   "display_name": "Python 3",
   "language": "python",
   "name": "python3"
  },
  "language_info": {
   "codemirror_mode": {
    "name": "ipython",
    "version": 3
   },
   "file_extension": ".py",
   "mimetype": "text/x-python",
   "name": "python",
   "nbconvert_exporter": "python",
   "pygments_lexer": "ipython3",
   "version": "3.7.7"
  }
 },
 "nbformat": 4,
 "nbformat_minor": 4
}
