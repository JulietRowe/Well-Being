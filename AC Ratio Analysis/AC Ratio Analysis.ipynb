{
 "cells": [
  {
   "cell_type": "code",
   "execution_count": 31,
   "metadata": {},
   "outputs": [],
   "source": [
    "#Import necessary modules\n",
    "import pandas as pd\n",
    "import PySimpleGUI as sg\n",
    "import numpy as np\n",
    "import matplotlib.pyplot as plt\n",
    "import matplotlib.dates as mdate\n",
    "import plotly.figure_factory as ff\n",
    "import plotly.io as pio"
   ]
  },
  {
   "cell_type": "code",
   "execution_count": 32,
   "metadata": {},
   "outputs": [],
   "source": [
    "#Plots show up externally and are interactive\n",
    "%matplotlib qt"
   ]
  },
  {
   "cell_type": "code",
   "execution_count": 33,
   "metadata": {},
   "outputs": [],
   "source": [
    "#Popup window to select .csv file for analysis\n",
    "sg.theme('LightBlue2')\n",
    "\n",
    "File = sg.popup_get_file('Please select .csv file for analyzing',\n",
    "                          title = 'Select File',\n",
    "                          keep_on_top = True)\n",
    "Data = pd.read_csv(File,\n",
    "                    header = 0, \n",
    "                    keep_default_na = False)\n",
    "#Keep na so athlete NA does not become NaN"
   ]
  },
  {
   "cell_type": "code",
   "execution_count": 34,
   "metadata": {},
   "outputs": [],
   "source": [
    "#Fill blanks with NaN's\n",
    "Data.replace(r'^\\s*$', np.nan, regex = True, inplace = True)\n",
    "\n",
    "#Create New df, remove NaN, and sort\n",
    "Data = Data[['Date', 'ID', 'A:C Ratio']].copy()\n",
    "Data = Data.dropna()\n",
    "Data.sort_values('ID', inplace = True, ascending = True)\n",
    "Data['Date'] = pd.to_datetime(Data['Date'])\n",
    "Data['A:C Ratio'] = pd.to_numeric(Data['A:C Ratio'])"
   ]
  },
  {
   "cell_type": "code",
   "execution_count": 35,
   "metadata": {},
   "outputs": [],
   "source": [
    "#Creating a dictionary of athletes\n",
    "dict_of_athletes = {k: v for k, v in Data.groupby('ID')}"
   ]
  },
  {
   "cell_type": "code",
   "execution_count": 36,
   "metadata": {
    "scrolled": true
   },
   "outputs": [],
   "source": [
    "#Visualizing athlete's A:C Ratios over time\n",
    "\n",
    "for key, value in dict_of_athletes.items():\n",
    "    fig = plt.figure(figsize = (8,5))\n",
    "    #Set figure size to 8X5 and dpi to 300\n",
    "    y = dict_of_athletes[key]['A:C Ratio']\n",
    "    x = dict_of_athletes[key]['Date']\n",
    "    colors = np.where(dict_of_athletes[key]['A:C Ratio'] >= 2.5, 'r', 'b')\n",
    "    #Highlight all ratios 2.5 and above as red\n",
    "    plt.scatter(x,y, c = colors)\n",
    "    locator = mdate.MonthLocator()\n",
    "    plt.gca().xaxis.set_major_locator(locator)\n",
    "    plt.xticks(rotation = 45)\n",
    "    plt.xlabel('Date')\n",
    "    plt.ylabel('A:C Ratio')\n",
    "    plt.title(key)\n",
    "    plt.gca().spines['right'].set_color('none')\n",
    "    plt.gca().spines['top'].set_color('none')\n",
    "plt.show()"
   ]
  },
  {
   "cell_type": "code",
   "execution_count": 37,
   "metadata": {},
   "outputs": [],
   "source": [
    "#Table with A:C Ratio above 2.5\n",
    "Criteria = Data['A:C Ratio'] >= 2.5\n",
    "NewData = Data[Criteria]\n",
    "\n",
    "#Opens table in Browser\n",
    "pio.renderers.default = 'browser'\n",
    "\n",
    "fig = ff.create_table(NewData)\n",
    "fig.show()"
   ]
  },
  {
   "cell_type": "code",
   "execution_count": 38,
   "metadata": {},
   "outputs": [],
   "source": [
    "#Set index to before saving to excel\n",
    "NewData.set_index('Date', inplace = True)\n",
    "\n",
    "#Save table in excel worksheet\n",
    "selectfolder = sg.popup_get_folder('Select a folder to save all plots and files', keep_on_top = True)\n",
    "with pd.ExcelWriter(selectfolder + '/Analyzed Wellness Data.xlsx') as writer:\n",
    "    NewData.to_excel(writer, sheet_name = 'AC Ratio Data')"
   ]
  }
 ],
 "metadata": {
  "kernelspec": {
   "display_name": "Python 3",
   "language": "python",
   "name": "python3"
  },
  "language_info": {
   "codemirror_mode": {
    "name": "ipython",
    "version": 3
   },
   "file_extension": ".py",
   "mimetype": "text/x-python",
   "name": "python",
   "nbconvert_exporter": "python",
   "pygments_lexer": "ipython3",
   "version": "3.7.7"
  }
 },
 "nbformat": 4,
 "nbformat_minor": 4
}
